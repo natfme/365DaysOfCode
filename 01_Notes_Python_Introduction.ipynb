{
  "cells": [
    {
      "cell_type": "markdown",
      "metadata": {
        "id": "view-in-github",
        "colab_type": "text"
      },
      "source": [
        "<a href=\"https://colab.research.google.com/github/natfme/365DaysOfCode/blob/master/01_Notes_Python_Introduction.ipynb\" target=\"_parent\"><img src=\"https://colab.research.google.com/assets/colab-badge.svg\" alt=\"Open In Colab\"/></a>"
      ]
    },
    {
      "cell_type": "markdown",
      "metadata": {
        "id": "-aSUJaJkfAcF"
      },
      "source": [
        "\n",
        "\n",
        "# <center> 01. Introduccion a python! </center>\n",
        "\n",
        "\n",
        "1. **Python** es un lenguage de alto nivel, fuertemente tipado. permitiendo el uso de librerias como numpy, scipy and matplotlib.\n",
        "2. **Jupyter notebook** es una aplicacion web, deseada para la visualizacion de codigo, imagenes y ecuaciones.\n",
        "3. **Numpy** es una liberiria de alto rendimiento diseñada para trabajar estructuras como array.\n",
        "\n",
        "---"
      ]
    },
    {
      "cell_type": "markdown",
      "metadata": {
        "id": "lgqwr4cBfAcI"
      },
      "source": [
        "<p style=\"font-size:20px;font-weight:bold;\"><span style=\"color:#FFF; background-color:#080; font-weight:bold; padding:4px;\">PYTHON</span></p>"
      ]
    },
    {
      "cell_type": "markdown",
      "metadata": {
        "id": "75NtmKU2fAcJ"
      },
      "source": [
        "## Tipos, Operaciones y Asignamientos"
      ]
    },
    {
      "cell_type": "markdown",
      "metadata": {
        "id": "m76vgECAfAcJ"
      },
      "source": [
        "Python tiene un número de tipos básicos incluyendo enteros (int), flotadores (float), booleanos (bool), y cuerdas (str) e incluso representaciones numéricas complejas (complejas). En python la declaración de la variable es **no** explícita, el intérprete intenta inferir el tipo según el uso."
      ]
    },
    {
      "cell_type": "code",
      "execution_count": null,
      "metadata": {
        "scrolled": true,
        "id": "8yD6z6qafAcJ",
        "outputId": "ca2d4bc6-d3ab-4727-d921-53a0038399bd"
      },
      "outputs": [
        {
          "name": "stdout",
          "output_type": "stream",
          "text": [
            "(<type 'int'>, <type 'int'>, <type 'float'>, <type 'str'>)\n",
            "('a =', 10, '; b =', 3, '; c =', 3.0, ';d=', 'hola')\n",
            "('a/b =', 3)\n",
            "('a/c =', 3.3333333333333335)\n",
            "<type 'int'>\n",
            "<type 'float'>\n",
            "3.0\n"
          ]
        }
      ],
      "source": [
        "a = 10 #Variable int\n",
        "b = 3  #Variable int\n",
        "c = 3. #Variable float\n",
        "d = \"hola\" #Variable string\n",
        "\n",
        "print( type(a), type(b), type(c), type(d))  #Imprimir que tipo de dato de cada Variable\n",
        "\n",
        "print(\"a =\",a,\"; b =\",b, \"; c =\",c,\";d=\",d) #Imprime los valores de cada Variable\n",
        "print(\"a/b =\", a/b )               #Imprime el valor de la división de la varable a en b\n",
        "print(\"a/c =\", a/c )              #Imprime el valor de la división de la varable a en c\n",
        "print type(a/b)                     #Imprime el tipo de dato del valor de la división de la varable a en b\n",
        "print(type(c))                      #Imprime el tipo de dato del valor de la división de la varable a en c\n",
        "print(c)                            #Imprime el valor de c"
      ]
    },
    {
      "cell_type": "code",
      "execution_count": null,
      "metadata": {
        "id": "lk5Z0jE7fAcL",
        "outputId": "d1baef21-6789-41bd-94ae-27cb9f911c19"
      },
      "outputs": [
        {
          "name": "stdout",
          "output_type": "stream",
          "text": [
            "Datos:  10.0 3 <type 'float'> <type 'int'>\n",
            "Solución:  3.33333333333 <type 'float'>\n"
          ]
        }
      ],
      "source": [
        "a=float(10)\n",
        "b=3\n",
        "\n",
        "print 'Datos: ',a,b, type(a), type(b)\n",
        "\n",
        "print 'Solución: ',a/b, type(a/b)"
      ]
    },
    {
      "cell_type": "markdown",
      "metadata": {
        "id": "CRCjy8WsfAcL"
      },
      "source": [
        "## <span style=\"color:orange\">student</span>:\n",
        "Separe el codigo anterior en partes para entenderlo mejor. Use el `+` en la parte superior izquierda del notebook para añadir una nueva celda:"
      ]
    },
    {
      "cell_type": "markdown",
      "metadata": {
        "id": "e1veyPoBfAcM"
      },
      "source": [
        "## <span style=\"color:orange\">student</span>:\n",
        "Como aumentar en uno una variable ya instanciada: `c`"
      ]
    },
    {
      "cell_type": "code",
      "execution_count": null,
      "metadata": {
        "id": "GakUUlm-fAcM",
        "outputId": "a7f1349a-7338-480c-f0c5-991a79640e48"
      },
      "outputs": [
        {
          "name": "stdout",
          "output_type": "stream",
          "text": [
            "4.0\n",
            "3.0\n",
            "6.0\n",
            "3.0\n"
          ]
        }
      ],
      "source": [
        "c += 1\n",
        "print(c)  # Prints \"4\"\n",
        "\n",
        "c -= 1\n",
        "print(c)  # Prints \"3\"\n",
        "\n",
        "c *= 2\n",
        "print(c)  # Prints \"8\"\n",
        "\n",
        "c /= 2\n",
        "print(c)  # Prints \"8\""
      ]
    },
    {
      "cell_type": "code",
      "execution_count": null,
      "metadata": {
        "id": "R2HceW4KfAcM",
        "outputId": "6d8f58c9-9aa7-47aa-faea-4d281ccd11a9"
      },
      "outputs": [
        {
          "name": "stdout",
          "output_type": "stream",
          "text": [
            "3.0\n"
          ]
        }
      ],
      "source": [
        "print c"
      ]
    },
    {
      "cell_type": "markdown",
      "metadata": {
        "id": "ZhPjabbbfAcM"
      },
      "source": [
        "<h2><span style=\"color:#FFF; background-color:#F00; font-weight:bold; padding:4px;\">Important!</span></h2><br><h2 style=\"margin-top:-10px;\"></h2>\n",
        "\n",
        "\n",
        "- Python usa todos los peradores usuales en los leguages de programacion como palabras y simbolos en ingles como por ejemplo:(&&, ||, etc.)"
      ]
    },
    {
      "cell_type": "code",
      "execution_count": null,
      "metadata": {
        "id": "qXvZ7jE3fAcN",
        "outputId": "51880136-e1fc-49f9-e777-13223bb3cc29"
      },
      "outputs": [
        {
          "name": "stdout",
          "output_type": "stream",
          "text": [
            "<type 'bool'>\n",
            "False\n",
            "False\n",
            "False\n",
            "True\n",
            "-----\n",
            "False\n",
            "True\n",
            "True\n",
            "True\n",
            "-----\n",
            "False\n",
            "True\n",
            "-----\n",
            "True\n",
            "True\n",
            "False\n",
            "False\n",
            "-----\n",
            "True\n",
            "True\n",
            "False\n",
            "False\n"
          ]
        }
      ],
      "source": [
        "t = True\n",
        "f = False\n",
        "\n",
        "print(type(t))\n",
        "\n",
        "print(f and f)\n",
        "print(f and t)\n",
        "print(t and f)\n",
        "print(t and t)\n",
        "\n",
        "print('-----')\n",
        "\n",
        "print(f or f)\n",
        "print(f or t)\n",
        "print(t or f)\n",
        "print(t or t)\n",
        "print('-----')\n",
        "\n",
        "print(not t)\n",
        "print(not f)\n",
        "\n",
        "print('-----')\n",
        "\n",
        "print(t != f)\n",
        "\n",
        "print(f != t)\n",
        "\n",
        "print(t != t)\n",
        "\n",
        "print(f != f)\n",
        "\n",
        "print('-----')\n",
        "\n",
        "print(t == t)\n",
        "\n",
        "print(f == f)\n",
        "\n",
        "print(f == t)\n",
        "\n",
        "print(t == f)"
      ]
    },
    {
      "cell_type": "code",
      "execution_count": null,
      "metadata": {
        "id": "0HF2texJfAcN",
        "outputId": "76e60889-08f7-43de-d435-232745692663"
      },
      "outputs": [
        {
          "name": "stdout",
          "output_type": "stream",
          "text": [
            "False\n"
          ]
        }
      ],
      "source": [
        "a=str(10)\n",
        "b=10\n",
        "\n",
        "print(a==b)"
      ]
    },
    {
      "cell_type": "code",
      "execution_count": null,
      "metadata": {
        "id": "2lwTc5wjfAcN",
        "outputId": "18724c33-3974-4472-84f5-22c00928566b"
      },
      "outputs": [
        {
          "name": "stdout",
          "output_type": "stream",
          "text": [
            "Hola mundo\n",
            "Hola mundo\n",
            "Hola mundo\n",
            "Hola mundo\n",
            "Hola mundo\n",
            "Hola mundo\n",
            "Hola mundo\n",
            "Hola mundo\n",
            "Hola mundo\n",
            "Hola mundo\n",
            "Hola mundo\n",
            "Hola mundo\n",
            "Hola mundo\n",
            "Hola mundo\n",
            "Hola mundo\n",
            "Hola mundo\n",
            "Hola mundo\n",
            "Hola mundo\n",
            "Hola mundo\n",
            "Hola mundo\n",
            "19\n"
          ]
        }
      ],
      "source": [
        "n=30\n",
        "for i in range(20):\n",
        "    print('Hola mundo')\n",
        "print i"
      ]
    },
    {
      "cell_type": "code",
      "execution_count": null,
      "metadata": {
        "id": "XrwCqCeAfAcN",
        "outputId": "f433ef57-c96d-4791-e28c-417bc035e758"
      },
      "outputs": [
        {
          "name": "stdout",
          "output_type": "stream",
          "text": [
            "a no es ingual a b\n",
            "Fin del código\n"
          ]
        }
      ],
      "source": [
        "a=2\n",
        "b=10\n",
        "\n",
        "if a==b:\n",
        "\n",
        "    print 'a es igual a b'\n",
        "\n",
        "else:\n",
        "\n",
        "    print 'a no es igual a b'\n",
        "\n",
        "print 'Fin del código'"
      ]
    },
    {
      "cell_type": "code",
      "execution_count": null,
      "metadata": {
        "id": "wQlYoLzqfAcO",
        "outputId": "452a29d5-db9b-4f7a-f93c-354862a9a02a"
      },
      "outputs": [
        {
          "name": "stdout",
          "output_type": "stream",
          "text": [
            "False\n",
            "a es menor que b\n",
            "Fin del código\n"
          ]
        }
      ],
      "source": [
        "a=2\n",
        "b=10\n",
        "t=True\n",
        "print not t\n",
        "\n",
        "if a<b:\n",
        "\n",
        "    print 'a es menor que b'\n",
        "\n",
        "elif a==b:\n",
        "\n",
        "    print 'a no es igual a b'\n",
        "\n",
        "print 'Fin del código'"
      ]
    },
    {
      "cell_type": "code",
      "execution_count": null,
      "metadata": {
        "id": "xcwpzLStfAcO",
        "outputId": "32bdda4b-33c8-4727-93b6-7bd476a4ecd2"
      },
      "outputs": [
        {
          "name": "stdout",
          "output_type": "stream",
          "text": [
            "6\n",
            "6\n"
          ]
        }
      ],
      "source": [
        "a=input()\n",
        "print(a)"
      ]
    },
    {
      "cell_type": "code",
      "execution_count": null,
      "metadata": {
        "id": "heO6mmGefAcO",
        "outputId": "3e3cafa1-8e43-494a-890b-f82d07d1cbad"
      },
      "outputs": [
        {
          "name": "stdout",
          "output_type": "stream",
          "text": [
            "p: 0\n",
            "p: 1\n",
            "p: 2\n",
            "p: 3\n",
            "p: 4\n",
            "p: 5\n",
            "p: 6\n",
            "p: 7\n",
            "p: 8\n",
            "p: 9\n",
            "p: 10\n",
            "p: 11\n",
            "p: 12\n",
            "p: 13\n",
            "p: 14\n",
            "p: 15\n",
            "p: 16\n",
            "p: 17\n",
            "p: 18\n",
            "p: 19\n",
            "p: 20\n"
          ]
        }
      ],
      "source": [
        "p=0\n",
        "\n",
        "while p<=20:\n",
        "    print 'p:',p\n",
        "    p += 1\n",
        "    #p=p+1\n",
        ""
      ]
    },
    {
      "cell_type": "markdown",
      "metadata": {
        "id": "b-9UehmXfAcP"
      },
      "source": [
        "## Lists\n",
        "Las listas en python son equivalentes a un array, pero una lista es redimensionable y puede contener distintos tipos de datos como se ve acontinuación:"
      ]
    },
    {
      "cell_type": "code",
      "execution_count": null,
      "metadata": {
        "id": "VApd0kFLfAcP",
        "outputId": "9852daab-a131-4367-bc96-a2ce71e60294"
      },
      "outputs": [
        {
          "name": "stdout",
          "output_type": "stream",
          "text": [
            "([3, 1, 2], 2)\n",
            "2\n",
            "[3, 1, 'foo']\n",
            "('bar', [3, 1, 'foo'])\n"
          ]
        }
      ],
      "source": [
        "xs = [3, 1, 2]    #Asigno a la variable xs, una lista de elementos predefinidos\n",
        "print(xs, xs[2])  #imprimo primer elemento lista completa xs, segundo elemento tercer elemento de la lista xs(extrae)\n",
        "print(xs[-1])     #imprimo último elemento lista xs\n",
        "xs[2] = 'foo'     #Cambia el elemento en esta posición por la variable string foo\n",
        "print(xs)         #imprimo la lista xs con el cambio realizado\n",
        "xs.append('bar')  #Agrega una nueva casilla a la lista existente, crea un nuevo dato justo al final\n",
        "x = xs.pop()\n",
        "print(x, xs)\n"
      ]
    },
    {
      "cell_type": "code",
      "execution_count": null,
      "metadata": {
        "id": "wGZvyYMRfAcP",
        "outputId": "49a02c31-b7a7-4c22-d809-195cfc318d4e"
      },
      "outputs": [
        {
          "name": "stdout",
          "output_type": "stream",
          "text": [
            "1\n",
            "a\n",
            "1.0\n",
            "(1-1j)\n"
          ]
        }
      ],
      "source": [
        "lista = [1, 'a', 1.0, 1-1j]\n",
        "\n",
        "for i in range(len(lista)):\n",
        "\n",
        "    print lista[i]\n"
      ]
    },
    {
      "cell_type": "code",
      "execution_count": null,
      "metadata": {
        "id": "rXYa3cBCfAcP",
        "outputId": "6dab6d83-9506-4d41-e84c-e80067aa5c1c"
      },
      "outputs": [
        {
          "name": "stdout",
          "output_type": "stream",
          "text": [
            "1\n",
            "a\n",
            "1.0\n",
            "(1-1j)\n"
          ]
        }
      ],
      "source": [
        "lista = [1, 'a', 1.0, 1-1j]\n",
        "\n",
        "for elemento in lista:\n",
        "\n",
        "    print elemento"
      ]
    },
    {
      "cell_type": "code",
      "execution_count": null,
      "metadata": {
        "id": "mACS0bv5fAcP",
        "outputId": "75b6cfd9-d05d-4758-975a-6560a9a2a18f"
      },
      "outputs": [
        {
          "data": {
            "text/plain": [
              "[0, 1, 2, 3]"
            ]
          },
          "execution_count": 95,
          "metadata": {},
          "output_type": "execute_result"
        }
      ],
      "source": [
        "range(4)"
      ]
    },
    {
      "cell_type": "markdown",
      "metadata": {
        "id": "9VGKobG0fAcP"
      },
      "source": [
        "Ejercicio\n",
        "\n",
        "- Cree una lista de tamaño dado por el usuario y agregelie números dados por el usuario."
      ]
    },
    {
      "cell_type": "code",
      "execution_count": null,
      "metadata": {
        "id": "ArOyBq01fAcP",
        "outputId": "12e05a51-08df-4cc6-eb16-639f29917cd4"
      },
      "outputs": [
        {
          "name": "stdout",
          "output_type": "stream",
          "text": [
            "Tamaño de la lista\n",
            "3\n",
            "Ingrese dato\n",
            "5\n",
            "Ingrese dato\n",
            "9\n",
            "Ingrese dato\n",
            "2\n",
            "lista: [5, 9, 2]\n"
          ]
        }
      ],
      "source": [
        "print 'Tamaño de la lista'\n",
        "l=input()\n",
        "\n",
        "lista=[]\n",
        "\n",
        "for i in range (l):\n",
        "\n",
        "    print 'Ingrese dato'\n",
        "\n",
        "    a=input()\n",
        "\n",
        "    lista.append(a)\n",
        "\n",
        "print 'lista:', lista"
      ]
    },
    {
      "cell_type": "markdown",
      "metadata": {
        "id": "R8SaW0nafAcQ"
      },
      "source": [
        "## slicing y ciclos\n",
        "\n",
        "- Python ofrece una sintaxis para acceder a sublistas, conocida como slicing.\n",
        "- Python ofrece un mecanismo especial de ciclo sobre los elemtento en una lista.\n"
      ]
    },
    {
      "cell_type": "code",
      "execution_count": null,
      "metadata": {
        "id": "tR4RiXJDfAcQ"
      },
      "outputs": [],
      "source": [
        "nums = list(range(5))\n",
        "print(nums)\n",
        "print(nums[2:4])\n",
        "print(nums[2:])\n",
        "print(nums[:2])\n",
        "print(nums[:])\n",
        "print(nums[:-1])\n",
        "nums[2:4] = [8, 9]\n",
        "print(nums)"
      ]
    },
    {
      "cell_type": "code",
      "execution_count": null,
      "metadata": {
        "id": "eInlZjDwfAcQ"
      },
      "outputs": [],
      "source": [
        "animals = ['cat', 'dog', 'monkey']\n",
        "for animal in animals:\n",
        "    print(animal)\n",
        "\n",
        "for i in  range(len(animals)):\n",
        "    print i\n",
        "\n",
        "for idx, animal in enumerate(animals):\n",
        "    print('#%d: %s' % (idx + 1, animal))\n",
        "\n",
        "\n",
        "nums = [0, 1, 2, 3, 4]\n",
        "squares = [x ** 2 for x in nums]\n",
        "print(squares)\n",
        "\n",
        "\n",
        "nums = [0, 1, 2, 3, 4]\n",
        "even_squares = [x ** 2 for x in nums if x % 2 == 0]\n",
        "print(\"fast way: \", even_squares)\n",
        "\n",
        "even_squares =[]\n",
        "for ant in nums:\n",
        "    if ant % 2==0:\n",
        "        even_squares.append(ant**2)\n",
        "print(\"a la antigua: \", even_squares)\n"
      ]
    },
    {
      "cell_type": "markdown",
      "metadata": {
        "id": "oFOW4PAMfAcQ"
      },
      "source": [
        "---\n",
        "<p style=\"font-size:20px;font-weight:bold;\"><span style=\"color:#FFF; background-color:#080; font-weight:bold; padding:4px;\">NUMPY</span></p>"
      ]
    },
    {
      "cell_type": "markdown",
      "metadata": {
        "id": "bUBUo81JfAcQ"
      },
      "source": [
        "## Vector and matrices from `ndarray`"
      ]
    },
    {
      "cell_type": "markdown",
      "metadata": {
        "id": "y-UZk-a8fAcQ"
      },
      "source": [
        "The `Numpy`  library allows the efficient manage of the matrices and also the matrices are expressed naturally.\n",
        "\n",
        "- `ndarray` are homogenous (same type)  **data containers**  and **functions** to operate over the data. Operations are highly efficient.\n",
        "    - It is indexed as non-negative integers\n",
        "    - The number of dimensions is the `rank`\n",
        "    - `shape` is a tuple with size along each dimension\n",
        "Some initial notation and how the dimensions works are expressed as follows."
      ]
    },
    {
      "cell_type": "code",
      "execution_count": null,
      "metadata": {
        "id": "pxOq8fO8fAcR"
      },
      "outputs": [],
      "source": [
        "import numpy as np\n",
        "\n",
        "a = np.array([[1,2,3,4,5],\n",
        "              [5,4,3,2,1],\n",
        "              [9,8,7,6,5],\n",
        "              [7,6,5,6,7],\n",
        "              [2,2,2,3,3],\n",
        "              [4,3,4,3,4],\n",
        "              [5,1,1,4,1]])\n",
        "print \"a shape\", a.shape # (filas, columnas)\n",
        "print \"a rows\", a.shape[0]\n",
        "print \"a cols\", a.shape[1]\n",
        "\n",
        "v = np.array([2,3,4,5,6,7,3,12])\n",
        "print \"v shape\", v.shape\n",
        "print \"v elems\", v.shape[0]\n",
        "print(type(v))\n",
        "\n",
        "x = np.array([1, 2], dtype=np.float64)   # Force a particular datatype\n",
        "print(x.dtype)"
      ]
    },
    {
      "cell_type": "code",
      "execution_count": null,
      "metadata": {
        "id": "REzhcu2ifAcR"
      },
      "outputs": [],
      "source": [
        "len(a.shape)"
      ]
    },
    {
      "cell_type": "markdown",
      "metadata": {
        "id": "fsITs9sffAcR"
      },
      "source": [
        "In a `ndarray`, we can has slicing flexibility. We can acess in rows and columns indexes or slicing in matrices"
      ]
    },
    {
      "cell_type": "code",
      "execution_count": null,
      "metadata": {
        "id": "_RNgYtNSfAcR"
      },
      "outputs": [],
      "source": [
        "print(a)\n",
        "print\n",
        "print(\"una fila        \" ,a[2])\n",
        "print( \"una fila        \",a[2,:])\n",
        "print( \"una columna     \",a[:,2])\n",
        "print( \"un elemento     \",a[2,2])\n",
        "print( \"varias filas    \\n\",a[2:5])\n",
        "print( \"varias columnas \\n\",a[:,1:3])\n",
        "print( \"una porcion     \\n\",a[2:5,1:3])\n"
      ]
    },
    {
      "cell_type": "markdown",
      "metadata": {
        "id": "MyyNHib7fAcR"
      },
      "source": [
        "## <span style=\"color:orange\">student</span>:\n",
        "¿Que significa la siguiente notacion?"
      ]
    },
    {
      "cell_type": "code",
      "execution_count": null,
      "metadata": {
        "id": "rOp-pwdFfAcR"
      },
      "outputs": [],
      "source": [
        "print a\n",
        "b = a[:2, 1:3]\n",
        "print b\n",
        "print type(b)"
      ]
    },
    {
      "cell_type": "markdown",
      "metadata": {
        "id": "O_PPfJvUfAcS"
      },
      "source": [
        "## `axis`\n",
        "\n",
        "Algunas funciones `numpy` pueden ser ejecutadas sobre columnas y filas usando el argumento de valor`axis`.\n",
        "\n",
        "Axes are defined for arrays with more than one dimension. A 2-dimensional array has two corresponding axes:\n",
        "- eje x (axis 0)\n",
        "- eje y (axis 1)\n",
        "- eje z (axis 2)"
      ]
    },
    {
      "cell_type": "code",
      "execution_count": null,
      "metadata": {
        "id": "ErWmc9qAfAcS"
      },
      "outputs": [],
      "source": [
        "z = np.random.randint(100, size=(3,4)) # Create an array filled with random values\n",
        "print z"
      ]
    },
    {
      "cell_type": "code",
      "execution_count": null,
      "metadata": {
        "id": "9xHihto1fAcW"
      },
      "outputs": [],
      "source": [
        "np.sum(z, axis=0)"
      ]
    },
    {
      "cell_type": "code",
      "execution_count": null,
      "metadata": {
        "id": "xEEWH9y5fAcW"
      },
      "outputs": [],
      "source": [
        "print \"suma total\", np.sum(a)\n",
        "print \"suma eje 0\", np.sum(a, axis=0)\n",
        "print \"suma eje 1\", np.sum(a, axis=1)\n",
        "print \"promedio total\", np.mean(a)\n",
        "print \"promedio eje 0\", np.mean(a, axis=0)\n",
        "print \"promedio eje 1\", np.mean(a, axis=1)"
      ]
    },
    {
      "cell_type": "markdown",
      "metadata": {
        "id": "YXB6k5P8fAcW"
      },
      "source": [
        " ## Easy construction of matrices and vectors\n",
        "\n",
        "... and many functions to create arrays ..."
      ]
    },
    {
      "cell_type": "code",
      "execution_count": null,
      "metadata": {
        "id": "r3Im4llYfAcW"
      },
      "outputs": [],
      "source": [
        "b = np.zeros((2,2))\n",
        "print(b)\n",
        "\n",
        "c = np.ones((1,2))\n",
        "print(c)\n",
        "\n",
        "d = np.full((2,2), 7)\n",
        "print(d)\n",
        "\n",
        "\n",
        "f = np.eye(2)\n",
        "print(f)\n",
        "\n",
        "\n",
        "print \"matrix identidad\\n\", np.eye(3)\n",
        "print \"matrix identidad\\n\", np.identity(3)\n",
        "print \"vector de ceros\", np.zeros(4)\n",
        "print \"matriz de ceros\\n\", np.zeros((3,2))\n",
        "print \"matriz de unos\\n\", np.ones((2,3))\n",
        "print \"vector rango\", np.arange(10)\n",
        "print \"vector rango\", np.arange(5,10)\n",
        "print \"vector espacio lineal\", np.linspace(-10,5,7)\n",
        "print \"matriz aleatoria según distribución uniforme [0,1]\\n\", np.random.random(size=(3,5))\n",
        "print \"vector aleatorio de enteros entre 0 y 5\", np.random.randint(5, size=10)"
      ]
    },
    {
      "cell_type": "markdown",
      "metadata": {
        "id": "jBS-gGYSfAcW"
      },
      "source": [
        "En python se pueden trabajar hasta tres dimensiones"
      ]
    },
    {
      "cell_type": "code",
      "execution_count": null,
      "metadata": {
        "scrolled": false,
        "id": "YgW9nXCxfAcX"
      },
      "outputs": [],
      "source": [
        "m = np.random.randint(10, size=(3,3,3))\n",
        "print \"-------------------------------\\n\"\n",
        "print \"Matrix 3D completa\\n\", m\n",
        "print \"\\n m[0,:,:] ...\\n\\n\"\n",
        "print \"---\\n\", m[0,:,:]\n",
        "print \"-------------------------------\\n\"\n",
        "\n",
        "print \" \\n\\n **** m[1,:,:] **** ...\\n\\n\"\n",
        "print \"---\\n\", m[1,:,:]\n",
        "print \"-------------------------------\\n\"\n",
        "\n",
        "\n",
        "print \"*** m[:,0,:] **** ...\"\n",
        "print \"---\\n\", m[:,0,:]\n",
        "print \"-------------------------------\\n\"\n",
        "\n",
        "print \"*** m[:,:,0] **** ...\"\n",
        "print \"---\\n\", m[:,:,0]\n",
        "print \"-------------------------------\\n\"\n",
        "\n",
        "\n",
        "print \"*** m[:,0,0] **** ...\"\n",
        "print \"---\\n\", m[:,0,0]\n",
        "print \"-------------------------------\\n\"\n",
        "\n",
        "print \"uno ...\"\n",
        "print \"---\\n\", np.sum(m, axis=2)\n",
        "print \"uno ...\"\n"
      ]
    },
    {
      "cell_type": "markdown",
      "metadata": {
        "id": "Xb1XWUOrfAcX"
      },
      "source": [
        "## Operaciones matematicas con vectories en   `numpy`"
      ]
    },
    {
      "cell_type": "code",
      "execution_count": null,
      "metadata": {
        "id": "AEKehdTDfAcX"
      },
      "outputs": [],
      "source": [
        "v = np.array([10,12,13,15,20])\n",
        "print v\n",
        "print v+1\n",
        "print v*2\n",
        "\n",
        "x = np.array([[1,2],[3,4]], dtype=np.float64)\n",
        "y = np.array([[5,6],[7,8]], dtype=np.float64)\n",
        "\n",
        "\n",
        "print(x + y)\n",
        "print(np.add(x, y))"
      ]
    },
    {
      "cell_type": "markdown",
      "metadata": {
        "id": "SEACxgiTfAcX"
      },
      "source": [
        "## <span style=\"color:orange\">student</span>:\n",
        "Como multiplicar, dividir y calcular raiz cuadrada?"
      ]
    },
    {
      "cell_type": "code",
      "execution_count": null,
      "metadata": {
        "id": "xWcUtqeZfAcX"
      },
      "outputs": [],
      "source": [
        "print(np.divide(x, y))\n",
        "print(np.multiply(x, y))\n",
        "print(np.sqrt(x))"
      ]
    },
    {
      "cell_type": "markdown",
      "metadata": {
        "id": "xTBQPdLrfAcX"
      },
      "source": [
        ""
      ]
    },
    {
      "cell_type": "code",
      "execution_count": null,
      "metadata": {
        "id": "wQ2iqsD3fAcX"
      },
      "outputs": [],
      "source": [
        "a = np.array([[1,2,3],[4,5,6]])\n",
        "b = np.array([[6,5,4],[3,2,1]])\n",
        "\n",
        "print a\n",
        "print b\n",
        "print \"--\"\n",
        "\n",
        "print \"a+b\\n\",a+b\n",
        "print \"a**2\\n\", a**2\n",
        "print \"a*b\\n\",a*b"
      ]
    },
    {
      "cell_type": "code",
      "execution_count": null,
      "metadata": {
        "id": "zvcTSha1fAcX"
      },
      "outputs": [],
      "source": [
        "a = np.array([1,8,4,10,-4,5])\n",
        "print a\n",
        "print a>4\n",
        "i = np.array([False, True, False, True, False, True])\n",
        "print i\n",
        "\n",
        "a[a>4]\n"
      ]
    },
    {
      "cell_type": "markdown",
      "metadata": {
        "id": "OiM0CfnXfAcY"
      },
      "source": [
        "The numpy functions also works with _boolean_ expressions. For instance to select some specific objects."
      ]
    },
    {
      "cell_type": "code",
      "execution_count": null,
      "metadata": {
        "id": "mrvRih58fAcY"
      },
      "outputs": [],
      "source": [
        "a = np.array([1,8,4,10,-4,5])\n",
        "print \"posiciones en a >4:\", a>4\n",
        "print \"elementos de a >4:\",a[a>4]\n"
      ]
    },
    {
      "cell_type": "markdown",
      "metadata": {
        "id": "YhR628P_fAcY"
      },
      "source": [
        "---\n",
        "<p style=\"font-size:20px;font-weight:bold;\"><span style=\"color:#FFF; background-color:#080; font-weight:bold; padding:4px;\">Funciones y Estructuras en Python</span></p>"
      ]
    },
    {
      "cell_type": "markdown",
      "metadata": {
        "id": "csgVxQZhfAcY"
      },
      "source": [
        "Python programs get structured through **indentation**, i.e. code blocks are defined by their indentation. The type of function arguments is not declared.\n",
        "\n",
        "### <span style=\"color:red\">The implementation should be prepared to works with the data types required !</span>"
      ]
    },
    {
      "cell_type": "code",
      "execution_count": null,
      "metadata": {
        "scrolled": true,
        "id": "kXnyqRQWfAcY"
      },
      "outputs": [],
      "source": [
        "def funcion_1(a,b):\n",
        "    r = a**2\n",
        "    return r+b\n",
        "\n",
        "def greatest(a,b):\n",
        "    if a>b:\n",
        "        return a\n",
        "    else:\n",
        "        return b\n",
        "\n",
        "m1 = np.array([[3,4],[1,1]])\n",
        "m2 = np.array([[5,6],[0,0]])\n",
        "print funcion_1 (10,2)\n",
        "print type(funcion_1 (10,2))\n",
        "print funcion_1 (10.4, np.array([2,4]))\n",
        "print type(funcion_1(10.4, np.array([2,4])))\n",
        "print funcion_1 (m1,m2)\n",
        "\n",
        "print greatest(10,2)\n"
      ]
    },
    {
      "cell_type": "markdown",
      "metadata": {
        "id": "VprODYpEfAcY"
      },
      "source": [
        "We can define values for the arguments in the functions and works as overload methods. We can call the arguments by the name. The function can return several values"
      ]
    },
    {
      "cell_type": "code",
      "execution_count": null,
      "metadata": {
        "id": "53obg-cufAcY"
      },
      "outputs": [],
      "source": [
        "def f_power(x, p=2):\n",
        "    return x**p\n",
        "\n",
        "print f_power(x=3)\n",
        "print f_power(p=4, x=3)"
      ]
    },
    {
      "cell_type": "code",
      "execution_count": null,
      "metadata": {
        "id": "7QB5iEN_fAcZ"
      },
      "outputs": [],
      "source": [
        "def f_power(x, p=2):\n",
        "    return x**p, x*p\n",
        "\n",
        "r = f_power(p=4, x=3)\n",
        "print r[1]\n",
        "\n",
        "r1, r2 = f_power(p=4, x=3)\n",
        "print r1\n",
        "print r2\n",
        "\n",
        "\n",
        "a,b = 10, np.array([10,4,-3])\n",
        "print a\n",
        "print b"
      ]
    },
    {
      "cell_type": "code",
      "execution_count": null,
      "metadata": {
        "id": "XwFThvLXfAcZ"
      },
      "outputs": [],
      "source": [
        "3**4"
      ]
    },
    {
      "cell_type": "code",
      "execution_count": null,
      "metadata": {
        "id": "5I0L0CX_fAcZ"
      },
      "outputs": [],
      "source": [
        "def f_power(x, p=2):\n",
        "    return x**p\n",
        "\n",
        "def f_powers(x, p1=2, p2=3):\n",
        "    return x**p1, x**p2\n",
        "\n",
        "print f_power(4)\n",
        "print f_power(4,3)\n",
        "print f_powers(4, p1=3)\n",
        "xp1, xp2 = f_powers(4, p2=4, p1=3)\n",
        "print \"power1\",xp1, \"power2\", xp2"
      ]
    },
    {
      "cell_type": "code",
      "execution_count": null,
      "metadata": {
        "id": "6AHlfzFTfAcZ"
      },
      "outputs": [],
      "source": [
        "#range(len(b))\n",
        "\n",
        "print b\n",
        "print len(b)\n",
        "\n",
        "for i in  range(len(b)):\n",
        "    print \"indice\", i, \"tiene el valor\", b[i]"
      ]
    },
    {
      "cell_type": "markdown",
      "metadata": {
        "id": "NpD0Re_QfAcZ"
      },
      "source": [
        "## Dictionaries\n",
        "A dictionary stores (key, value) pairs. The dictionaries are special list with associations between objects like _hashes_ in Java"
      ]
    },
    {
      "cell_type": "code",
      "execution_count": null,
      "metadata": {
        "id": "Srv9aq_MfAcZ"
      },
      "outputs": [],
      "source": [
        "d = {\"i1\": 16, \"nombre\": \"haskel\", \"edad\": 32}\n",
        "\n",
        "r10 = range(10)\n",
        "rr  = np.random.randint(10, size=10)\n",
        "print r10\n",
        "print rr"
      ]
    },
    {
      "cell_type": "code",
      "execution_count": null,
      "metadata": {
        "id": "gg-7v35gfAcZ"
      },
      "outputs": [],
      "source": [
        "for i in d.keys():\n",
        "    print \"la clave\", i, \"tiene el valor\", d[i]"
      ]
    },
    {
      "cell_type": "code",
      "execution_count": null,
      "metadata": {
        "id": "ZbtUN5bMfAca"
      },
      "outputs": [],
      "source": [
        "for i in range(len(rr)):\n",
        "    print \"el indice\", i, \"tiene el valor\", rr[i]"
      ]
    },
    {
      "cell_type": "code",
      "execution_count": null,
      "metadata": {
        "id": "TZFJfyNWfAca"
      },
      "outputs": [],
      "source": [
        "d = {\"i1\": 16, \"nombre\": \"haskel\", \"edad\": 32}\n",
        "print d\n",
        "print d.keys()\n",
        "print d[\"nombre\"], d[\"edad\"]\n",
        "for k in d.keys():\n",
        "    print d[k]"
      ]
    },
    {
      "cell_type": "markdown",
      "metadata": {
        "id": "cNTxKVgffAca"
      },
      "source": [
        "## More compact expressions"
      ]
    },
    {
      "cell_type": "code",
      "execution_count": null,
      "metadata": {
        "id": "YFCtIgwHfAca"
      },
      "outputs": [],
      "source": [
        "a=15\n",
        "if a > 10:\n",
        "    s = \"mayor que 10\"\n",
        "else:\n",
        "    s = \"menor que 10\"\n",
        "\n",
        "print s"
      ]
    },
    {
      "cell_type": "code",
      "execution_count": null,
      "metadata": {
        "id": "ml-_Dx8ffAca"
      },
      "outputs": [],
      "source": [
        "a = 5\n",
        "s = \"mayor que 10\" if a > 10 else \"menor que 10\"\n",
        "print s"
      ]
    },
    {
      "cell_type": "code",
      "execution_count": null,
      "metadata": {
        "id": "huRRjzuYfAca"
      },
      "outputs": [],
      "source": [
        "a = [10, -4, 20, 5]\n",
        "\n",
        "o = [\"10A\", \"-4B\", \"20A\", \"5A\"]\n",
        "\n",
        "o = []\n",
        "for i in a:\n",
        "    if i<0:\n",
        "        o.append(str(i)+\"B\")\n",
        "    else:\n",
        "        o.append(str(i)+\"A\")\n",
        "\n",
        "print o\n",
        "\n"
      ]
    },
    {
      "cell_type": "code",
      "execution_count": null,
      "metadata": {
        "id": "pNVN7bovfAca"
      },
      "outputs": [],
      "source": [
        "def convert(x):\n",
        "    return str(x)+\"B\" if x<0 else str(x)+\"A\"\n",
        "\n",
        "o = [convert(i) for i in a]\n",
        "print o"
      ]
    },
    {
      "cell_type": "code",
      "execution_count": null,
      "metadata": {
        "id": "rwwowsWxfAcb"
      },
      "outputs": [],
      "source": [
        "r = []\n",
        "for i in range(10):\n",
        "    r.append(\"el numero \"+str(i))\n",
        "print r"
      ]
    },
    {
      "cell_type": "code",
      "execution_count": null,
      "metadata": {
        "id": "Sw435L4TfAcb"
      },
      "outputs": [],
      "source": [
        "r = [\"el numero \"+str(i) for i in range(10)]\n",
        "print r"
      ]
    },
    {
      "cell_type": "markdown",
      "metadata": {
        "id": "Kv2Ov7_mfAcb"
      },
      "source": [
        "## <span style=\"color:orange\">About markdown please see the notebook complement 01</span>:"
      ]
    },
    {
      "cell_type": "markdown",
      "metadata": {
        "id": "z6qAtLQNfAcb"
      },
      "source": [
        "## Plotting with Matplotlib\n",
        "The most important function in matplotlib is plot, which allows you to plot 2D data"
      ]
    },
    {
      "cell_type": "code",
      "execution_count": null,
      "metadata": {
        "id": "Rlql3eB_fAcb"
      },
      "outputs": [],
      "source": [
        "import numpy as np\n",
        "import matplotlib.pyplot as plt\n",
        "\n",
        "# Compute the x and y coordinates for points on a sine curve\n",
        "x = np.arange(0, 3 * np.pi, 0.1)\n",
        "y_sin = np.sin(x)\n",
        "y_cos = np.cos(x)\n",
        "\n",
        "# Plot the points using matplotlib\n",
        "plt.plot(x, y_sin)\n",
        "plt.plot(x, y_cos)\n",
        "plt.xlabel('x axis label')\n",
        "plt.ylabel('y axis label')\n",
        "plt.title('Sine and Cosine')\n",
        "plt.legend(['Sine', 'Cosine'])\n",
        "plt.show()"
      ]
    },
    {
      "cell_type": "markdown",
      "metadata": {
        "id": "ugFXqDrofAcb"
      },
      "source": [
        "With **plt.plot** drawn conected points and with  **plt.scatter\"** independent points"
      ]
    },
    {
      "cell_type": "code",
      "execution_count": null,
      "metadata": {
        "id": "eAqdwxL6fAcb"
      },
      "outputs": [],
      "source": [
        "import matplotlib.pyplot as plt\n",
        "import numpy as np\n",
        "%matplotlib inline\n",
        "\n",
        "x = np.linspace(-4,4,20)\n",
        "print x\n",
        "print x**2\n",
        "plt.plot(x, x**2, label=\"x^2 plot\")\n",
        "plt.scatter(x, x**2, label=\"muestras\")\n",
        "plt.plot(x, x**3, label=\"$x^3$\", color=\"red\")\n",
        "plt.xlim([-2,2])\n",
        "plt.ylim([-20, 20])\n",
        "plt.legend()"
      ]
    },
    {
      "cell_type": "code",
      "execution_count": null,
      "metadata": {
        "scrolled": true,
        "id": "pZuZ2GIPfAcb"
      },
      "outputs": [],
      "source": [
        "import matplotlib.pyplot as plt\n",
        "import numpy as np\n",
        "%matplotlib inline\n",
        "\n",
        "\n",
        "plt.figure(figsize=(5,3))\n",
        "x = np.linspace(-4,4,10)\n",
        "plt.plot(x, x**2, color=\"black\", linewidth=1)\n",
        "plt.scatter(x, x**2, c=\"green\", s=50)\n",
        "x_r = np.linspace(-4,4,100)\n",
        "print x_r.shape\n",
        "x_ruido = x_r**2 + (np.random.random(x_r.shape)-0.5)*10\n",
        "plt.scatter(x_r,x_ruido, c=\"red\", alpha=0.4)"
      ]
    },
    {
      "cell_type": "markdown",
      "metadata": {
        "id": "NIqT0OJFfAcc"
      },
      "source": [
        "### Subplots\n",
        "You can plot several images in the same figure using the subplot function"
      ]
    },
    {
      "cell_type": "code",
      "execution_count": null,
      "metadata": {
        "id": "vinIDZmdfAcc"
      },
      "outputs": [],
      "source": [
        "# Set up a subplot grid that has height 2 and width 1,\n",
        "# and set the first such subplot as active.\n",
        "plt.subplot(2, 1, 1)\n",
        "\n",
        "# Make the first plot\n",
        "plt.plot(x, y_sin)\n",
        "plt.title('Sine')\n",
        "\n",
        "# Set the second subplot as active, and make the second plot.\n",
        "plt.subplot(2, 1, 2)\n",
        "plt.plot(x, y_cos)\n",
        "plt.title('Cosine')\n",
        "\n",
        "# Show the figure.\n",
        "plt.show()"
      ]
    },
    {
      "cell_type": "markdown",
      "metadata": {
        "id": "wLLKChnqfAcc"
      },
      "source": [
        "## Referencias\n",
        "\n",
        "[1] official numpy tutorial: https://docs.scipy.org/doc/numpy/user/quickstart.html\n",
        "\n",
        "[2] Datacamp tutorial of numpy: https://www.datacamp.com/community/tutorials/python-numpy-tutorial\n",
        "\n",
        "[3] An other tutorial: https://www.twilio.com/blog/2017/10/basic-statistics-python-numpy-jupyter-notebook.html\n",
        "\n",
        "[4] About dictionaries: https://docs.python.org/3.5/library/stdtypes.html#dict\n",
        "\n",
        "[5] mathematical functions in numpy: https://docs.scipy.org/doc/numpy/reference/routines.math.html\n",
        "\n",
        "[6] More deeply in numpy: https://docs.scipy.org/doc/numpy/reference/\n",
        "\n",
        "[7] All about matplotlib: http://matplotlib.org/"
      ]
    },
    {
      "cell_type": "markdown",
      "metadata": {
        "id": "OiqZ6SPzfAcc"
      },
      "source": [
        "---\n",
        "# <center> Muchas Gracias! </center>"
      ]
    }
  ],
  "metadata": {
    "kernelspec": {
      "display_name": "Python 2",
      "language": "python",
      "name": "python2"
    },
    "language_info": {
      "codemirror_mode": {
        "name": "ipython",
        "version": 2
      },
      "file_extension": ".py",
      "mimetype": "text/x-python",
      "name": "python",
      "nbconvert_exporter": "python",
      "pygments_lexer": "ipython2",
      "version": "2.7.15"
    },
    "toc": {
      "toc_cell": false,
      "toc_number_sections": true,
      "toc_threshold": 6,
      "toc_window_display": false
    },
    "colab": {
      "provenance": [],
      "include_colab_link": true
    }
  },
  "nbformat": 4,
  "nbformat_minor": 0
}